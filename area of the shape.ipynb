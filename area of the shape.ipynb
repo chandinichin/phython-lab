{
 "cells": [
  {
   "cell_type": "code",
   "execution_count": 1,
   "id": "f428611c",
   "metadata": {},
   "outputs": [
    {
     "name": "stdout",
     "output_type": "stream",
     "text": [
      "hello\n"
     ]
    }
   ],
   "source": [
    "print(\"hello\")"
   ]
  },
  {
   "cell_type": "code",
   "execution_count": 2,
   "id": "ebefa5f3",
   "metadata": {},
   "outputs": [
    {
     "name": "stdout",
     "output_type": "stream",
     "text": [
      "Enter your Name:chandini\n",
      "chandini\n"
     ]
    }
   ],
   "source": [
    "name=input(\"Enter your Name:\")\n",
    "print(name)"
   ]
  },
  {
   "cell_type": "code",
   "execution_count": 12,
   "id": "d2d6da32",
   "metadata": {},
   "outputs": [
    {
     "name": "stdout",
     "output_type": "stream",
     "text": [
      "please Enter the Radius of the circle:3\n",
      "The Area given circle is: 28.274333882308138\n"
     ]
    }
   ],
   "source": [
    "import math\n",
    "def area_of_the_circle(Radius):\n",
    "    area=Radius**2*math.pi\n",
    "    return area\n",
    "Radius=float(input(\"please Enter the Radius of the circle:\")) \n",
    "print(\"The Area given circle is:\",area_of_the_circle(Radius))"
   ]
  },
  {
   "cell_type": "code",
   "execution_count": 21,
   "id": "d8b6102e",
   "metadata": {},
   "outputs": [
    {
     "name": "stdout",
     "output_type": "stream",
     "text": [
      "Enter the width : 2\n",
      "Enter the hieght: 3\n",
      "The area of given rectangle is: 6.0\n"
     ]
    }
   ],
   "source": [
    "w=float(input(\"Enter the width : \"))\n",
    "h=float(input(\"Enter the hieght: \"))\n",
    "rectangle_area= w*h\n",
    "print(\"The area of given rectangle is:\",rectangle_area)\n",
    "    "
   ]
  },
  {
   "cell_type": "code",
   "execution_count": 22,
   "id": "91ada45d",
   "metadata": {},
   "outputs": [
    {
     "name": "stdout",
     "output_type": "stream",
     "text": [
      "Enter the value of the bredth :3\n",
      "Enter the valur of the hieght :4\n",
      "The area of the triangle is : 6.0\n"
     ]
    }
   ],
   "source": [
    "b=float(input(\"Enter the value of the bredth :\"))\n",
    "h=float(input(\"Enter the valur of the hieght :\"))\n",
    "triangle_area=0.5*b*h\n",
    "print(\"The area of the triangle is :\",triangle_area)"
   ]
  },
  {
   "cell_type": "code",
   "execution_count": 25,
   "id": "5a994e4d",
   "metadata": {},
   "outputs": [
    {
     "name": "stdout",
     "output_type": "stream",
     "text": [
      "perimeter of the  rectangle is : 12\n"
     ]
    }
   ],
   "source": [
    "#perimeter of the rectangle\n",
    "a=c=2\n",
    "b=d=4\n",
    "perimeter=2*(a+b)\n",
    "print(\"perimeter of the  rectangle is :\",perimeter)"
   ]
  },
  {
   "cell_type": "code",
   "execution_count": 26,
   "id": "d2eb8c7a",
   "metadata": {},
   "outputs": [
    {
     "name": "stdout",
     "output_type": "stream",
     "text": [
      "enter the radius :3\n",
      "The perimeter of circle is  18.84\n"
     ]
    }
   ],
   "source": [
    "r=float(input(\"enter the radius :\"))\n",
    "perimeter_cir=2*3.14*r\n",
    "print(\"The perimeter of circle is \",perimeter_cir)"
   ]
  },
  {
   "cell_type": "code",
   "execution_count": 28,
   "id": "f95d0793",
   "metadata": {},
   "outputs": [
    {
     "name": "stdout",
     "output_type": "stream",
     "text": [
      "enter the one side :2\n",
      "enter the second side :3\n",
      "enter the third side :5\n",
      "The perimeter of the triangle 10.0\n"
     ]
    }
   ],
   "source": [
    "a=float(input(\"enter the one side :\"))\n",
    "b=float(input(\"enter the second side :\"))\n",
    "c=float(input(\"enter the third side :\"))\n",
    "perimeter_tri=a+b+c\n",
    "print(\"The perimeter of the triangle\",perimeter_tri)"
   ]
  },
  {
   "cell_type": "code",
   "execution_count": 46,
   "id": "980efc64",
   "metadata": {},
   "outputs": [
    {
     "name": "stdout",
     "output_type": "stream",
     "text": [
      "Calculate Shape Area\n",
      "Enter the name of shape whose area you want to find: circle\n",
      "Enter circle's radius length: 4\n",
      "The area of circle is: 50.24\n"
     ]
    }
   ],
   "source": [
    "def calculate_area(name):\n",
    "    name=name.lower()\n",
    "    if name==\"reactangle\":\n",
    "        l=int(input(\"Enter the length :\"))\n",
    "        b=int(input(\"Enter the breadth :\"))\n",
    "        rect_area=l*b\n",
    "        print(\"the area of the Rectangle\",rect_area)\n",
    "    elif name==\"circle\":\n",
    "            r = int(input(\"Enter circle's radius length: \"))\n",
    "            pi = 3.14   \n",
    "            circ_area = pi * r * r\n",
    "            print(\"The area of circle is:\",circ_area)\n",
    "    elif name==\"triangle\":\n",
    "            b=int(input(\"Enter the value of the bredth :\"))\n",
    "            h=int(input(\"Enter the valur of the hieght :\"))\n",
    "            triangle_area=0.5*b*h\n",
    "            print(\"The area of the triangle is :\",triangle_area)\n",
    "    else:\n",
    "        print(\"Sorry! This shape is not available\")\n",
    "if __name__ == \"__main__\" :\n",
    "        print(\"Calculate Shape Area\")\n",
    "        shape_name = input(\"Enter the name of shape whose area you want to find: \")\n",
    "        calculate_area(shape_name)    "
   ]
  },
  {
   "cell_type": "code",
   "execution_count": null,
   "id": "ba9469ae",
   "metadata": {},
   "outputs": [],
   "source": []
  },
  {
   "cell_type": "code",
   "execution_count": null,
   "id": "df7af89a",
   "metadata": {},
   "outputs": [],
   "source": []
  }
 ],
 "metadata": {
  "kernelspec": {
   "display_name": "Python 3 (ipykernel)",
   "language": "python",
   "name": "python3"
  },
  "language_info": {
   "codemirror_mode": {
    "name": "ipython",
    "version": 3
   },
   "file_extension": ".py",
   "mimetype": "text/x-python",
   "name": "python",
   "nbconvert_exporter": "python",
   "pygments_lexer": "ipython3",
   "version": "3.9.7"
  }
 },
 "nbformat": 4,
 "nbformat_minor": 5
}
