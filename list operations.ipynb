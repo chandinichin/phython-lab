{
 "cells": [
  {
   "cell_type": "code",
   "execution_count": null,
   "id": "7f56d32a",
   "metadata": {},
   "outputs": [
    {
     "name": "stdout",
     "output_type": "stream",
     "text": [
      ".................................................\n",
      "MENU DRIVEN PROGRAAM FOR VARIOUS LIST OPERATIONS:\n",
      ".................................................\n",
      "1. Create a new list.\n",
      "2. Inserting a new element to the list.\n",
      "3. Removing an existing element from the list.\n",
      "4. Appending a new element to the list.\n",
      "5. Length of the list.\n",
      "6. Popping an element from the list.\n",
      "7. Clear\n",
      "8. Exit.\n",
      "Enter your choice: 1\n"
     ]
    }
   ],
   "source": [
    "list1=[ ]\n",
    "ch=0\n",
    "while(1):\n",
    "    print(\".................................................\")\n",
    "    print(\"MENU DRIVEN PROGRAAM FOR VARIOUS LIST OPERATIONS:\")\n",
    "    print(\".................................................\")\n",
    "    print(\"1. Create a new list.\")\n",
    "    print(\"2. Inserting a new element to the list.\")\n",
    "    print(\"3. Removing an existing element from the list.\")\n",
    "    print(\"4. Appending a new element to the list.\")\n",
    "    print(\"5. Length of the list.\")\n",
    "    print(\"6. Popping an element from the list.\")\n",
    "    print(\"7. Clear\")\n",
    "    print(\"8. Exit.\")\n",
    "    ch=int(input(\"Enter your choice: \"))\n",
    "    if ch==1:\n",
    "        n=int(input(\"Enter the new element of the list: \"))\n",
    "        list1.append(n)\n",
    "        print(\"The new element is inserted to the list.\")\n",
    "        print(\"After insertion the new list is: \", list1)\n",
    "    elif ch==2:\n",
    "        index=int(input(\"Enter the index at which the element is to be inserted: \"))\n",
    "        n=int(input(\"Enter the new element to be inserted to the list: \"))\n",
    "        list1.insert(index,n)\n",
    "        print(\"The new element is inserted at the specified index.\")\n",
    "        print(\"After insertion the new list is: \", list1)\n",
    "    elif ch==3:\n",
    "        n=int(input(\"Enter an element to be removed from the list: \"))\n",
    "        if n in list1:\n",
    "            list1.remove(n)\n",
    "            print(\"The specified element is removed from the list.\")\n",
    "            print(\"After removing the new list is: \", list1)\n",
    "        else:\n",
    "            print(\"The element is not found!!!\")\n",
    "    elif ch==4:\n",
    "        n=int(input(\"Enter the element to be appended to the list: \"))\n",
    "        list1.append(n)\n",
    "        print(\"The element is appended to the list.\")\n",
    "        print(\"After insertion the new list is: \", list1)\n",
    "    elif ch==5:\n",
    "        print(\"The length of the list is: \",len(list1))\n",
    "    elif ch==6:\n",
    "        index=int(input(\"Enter the index of the element to be popped from the list: \"))\n",
    "        if index in list1:\n",
    "            list1.pop(index)\n",
    "            print(\"The element of the specified index is popped from the list.\")\n",
    "            print(\"After popping the new list is: \", list1)\n",
    "        else:\n",
    "            print(\"The element is not found!!!\")\n",
    "    elif ch==7:\n",
    "        l=list1.clear()\n",
    "        print(\"The list is cleared. \",l)\n",
    "    elif ch==8:\n",
    "        break\n",
    "    else:\n",
    "        print(\"Invalid choice!!! Try again.\")\n"
   ]
  },
  {
   "cell_type": "code",
   "execution_count": null,
   "id": "9fe4590c",
   "metadata": {},
   "outputs": [],
   "source": []
  }
 ],
 "metadata": {
  "kernelspec": {
   "display_name": "Python 3 (ipykernel)",
   "language": "python",
   "name": "python3"
  },
  "language_info": {
   "codemirror_mode": {
    "name": "ipython",
    "version": 3
   },
   "file_extension": ".py",
   "mimetype": "text/x-python",
   "name": "python",
   "nbconvert_exporter": "python",
   "pygments_lexer": "ipython3",
   "version": "3.9.7"
  }
 },
 "nbformat": 4,
 "nbformat_minor": 5
}
