{
 "cells": [
  {
   "cell_type": "code",
   "execution_count": 1,
   "id": "da2243d5",
   "metadata": {},
   "outputs": [
    {
     "name": "stdout",
     "output_type": "stream",
     "text": [
      "Mean: 110.18474724724724\n",
      "Standard Deviation: 49.20192304999875\n",
      "Correlation Matrix:\n",
      " 1.0\n",
      "Coefficient of Variation: 0.44654023609631655\n"
     ]
    }
   ],
   "source": [
    "import cv2\n",
    "import numpy as np\n",
    "\n",
    "def image_stats(image):\n",
    "    # Calculate mean and standard deviation\n",
    "    mean_val = np.mean(image)\n",
    "    std_dev = np.std(image)\n",
    "\n",
    "    # Flatten the image to a 1D array\n",
    "    flattened_image = image.flatten()\n",
    "\n",
    "    # Calculate correlation matrix\n",
    "    correlation_matrix = np.corrcoef(flattened_image)\n",
    "\n",
    "    # Calculate coefficient of variation\n",
    "    coefficient_variation = std_dev / mean_val\n",
    "\n",
    "    return mean_val, std_dev, correlation_matrix, coefficient_variation\n",
    "\n",
    "def main():\n",
    "    # Load the image\n",
    "    image = cv2.imread('tiger.jpg', cv2.IMREAD_GRAYSCALE)\n",
    "\n",
    "    # Check if image is loaded successfully\n",
    "    if image is None:\n",
    "        print(\"Error: Unable to load image.\")\n",
    "        return\n",
    "\n",
    "    # Compute image statistics\n",
    "    mean_val, std_dev, correlation_matrix, coefficient_variation = image_stats(image)\n",
    "\n",
    "    # Print the results\n",
    "    print(\"Mean:\", mean_val)\n",
    "    print(\"Standard Deviation:\", std_dev)\n",
    "    print(\"Correlation Matrix:\\n\", correlation_matrix)\n",
    "    print(\"Coefficient of Variation:\", coefficient_variation)\n",
    "\n",
    "if __name__ == \"__main__\":\n",
    "    main()\n"
   ]
  },
  {
   "cell_type": "code",
   "execution_count": null,
   "id": "ff29d21a",
   "metadata": {},
   "outputs": [],
   "source": []
  }
 ],
 "metadata": {
  "kernelspec": {
   "display_name": "Python 3 (ipykernel)",
   "language": "python",
   "name": "python3"
  },
  "language_info": {
   "codemirror_mode": {
    "name": "ipython",
    "version": 3
   },
   "file_extension": ".py",
   "mimetype": "text/x-python",
   "name": "python",
   "nbconvert_exporter": "python",
   "pygments_lexer": "ipython3",
   "version": "3.10.9"
  }
 },
 "nbformat": 4,
 "nbformat_minor": 5
}
