{
 "cells": [
  {
   "cell_type": "code",
   "execution_count": 1,
   "id": "701ea7a4",
   "metadata": {},
   "outputs": [
    {
     "name": "stdout",
     "output_type": "stream",
     "text": [
      "Enter size:4\n",
      "Natural numbers are:\n",
      "1 2 3 4 \n",
      "the sum is 10\n"
     ]
    }
   ],
   "source": [
    "sum1=0\n",
    "\n",
    "i=1\n",
    "\n",
    "n=int(input(\"Enter size:\"))\n",
    "\n",
    "print(\"Natural numbers are:\")\n",
    "\n",
    "while(i<=n):\n",
    "\n",
    "    print(i,end=\" \")\n",
    "\n",
    "    sum1+=i;\n",
    "\n",
    "    i+=1;\n",
    "\n",
    "print(\"\\nthe sum is\",sum1)\n",
    "\n"
   ]
  },
  {
   "cell_type": "code",
   "execution_count": null,
   "id": "baa0a99f",
   "metadata": {},
   "outputs": [],
   "source": []
  }
 ],
 "metadata": {
  "kernelspec": {
   "display_name": "Python 3 (ipykernel)",
   "language": "python",
   "name": "python3"
  },
  "language_info": {
   "codemirror_mode": {
    "name": "ipython",
    "version": 3
   },
   "file_extension": ".py",
   "mimetype": "text/x-python",
   "name": "python",
   "nbconvert_exporter": "python",
   "pygments_lexer": "ipython3",
   "version": "3.9.7"
  }
 },
 "nbformat": 4,
 "nbformat_minor": 5
}
