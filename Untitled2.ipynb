{
 "cells": [
  {
   "cell_type": "code",
   "execution_count": 24,
   "id": "ae4c798c",
   "metadata": {},
   "outputs": [
    {
     "name": "stdout",
     "output_type": "stream",
     "text": [
      "select the operations\n",
      "1.addition\n",
      " 2.substraction\n",
      " 3.multiplication\n",
      " 4.division\n",
      "\n",
      "Enter choice of operation 1/2/3/4:2\n",
      "Enter the first number:5\n",
      "Enter the second number:3\n",
      "5.0 - 3.0 = 2.0\n"
     ]
    }
   ],
   "source": [
    "# Lablist:MENU DRIVEN PROGRAM FOR AIRTHMATIC OPERTAION(+,-,*,/)\n",
    "def addition(n1,n2):\n",
    "    return n1+n2\n",
    "def substraction(n1,n2):\n",
    "    return n1-n2\n",
    "def multiplication(n1,n2):\n",
    "    return n1*n2\n",
    "def division(n1,n2):\n",
    "    return n1/n2\n",
    "print(\"select the operations\")\n",
    "print(\"1.addition\\n\",\"2.substraction\\n\",\"3.multiplication\\n\",\"4.division\\n\")\n",
    "operation=int(input(\"Enter choice of operation 1/2/3/4:\"))\n",
    "n1=float(input(\"Enter the first number:\"))\n",
    "n2=float(input(\"Enter the second number:\"))\n",
    "if operation==1:\n",
    "    print(n1,\"+\",n2,\"=\",addition(n1,n2))\n",
    "elif operation==2:\n",
    "     print(n1,\"-\",n2,\"=\",substraction(n1,n2))\n",
    "elif operation==3:\n",
    "    print(n1,\"*\",n2,\"=\",multiplication(n1,n2))\n",
    "elif operation==4:\n",
    "    print(n1,\"/\",n2,\"=\",division(n1,n2))\n",
    "else:\n",
    "    print(\"invalid input\")"
   ]
  },
  {
   "cell_type": "code",
   "execution_count": 3,
   "id": "20aecba7",
   "metadata": {},
   "outputs": [
    {
     "name": "stdout",
     "output_type": "stream",
     "text": [
      "enter the size for list:4\n",
      " Enter 4 numbers for list:3 \n",
      "6 \n",
      "7\n",
      "8\n",
      "\n",
      " second largest number=7\n"
     ]
    }
   ],
   "source": [
    "#lablilst:To find the second Largest number in the list\n",
    "nums=[]\n",
    "print(end=\"enter the size for list:\")\n",
    "listsize=int(input())\n",
    "print(end=\" Enter \" +str(listsize)+ \" numbers for list:\")\n",
    "for i in range(listsize):\n",
    "    nums.append(int(input()))\n",
    "large=nums[0]\n",
    "for i in range(listsize):\n",
    "    if large<nums[i]:\n",
    "        large=nums[i]\n",
    "secondlarge=nums[1]\n",
    "for i in range(listsize):\n",
    "    if secondlarge<nums[i] and nums[i]!=large:\n",
    "         secondlarge=nums[i]\n",
    "if large==secondlarge:\n",
    "    print(\"\\n second largest number doesnt exist\")\n",
    "else:\n",
    "    print(\"\\n second largest number=\"+ str(secondlarge))\n",
    "                    "
   ]
  },
  {
   "cell_type": "code",
   "execution_count": 2,
   "id": "a6c6d6e2",
   "metadata": {},
   "outputs": [
    {
     "name": "stdout",
     "output_type": "stream",
     "text": [
      "enter the size for list:5\n",
      " Enter 5 numbers for list:3\n",
      "4 \n",
      "7\n",
      "8 \n",
      "9\n",
      "largest number in the list :\n",
      "9\n"
     ]
    }
   ],
   "source": [
    "# To find the largest number in the list(pract)\n",
    "nums=[]\n",
    "print(end=\"enter the size for list:\")\n",
    "listsize=int(input())\n",
    "print(end=\" Enter \" +str(listsize)+ \" numbers for list:\")\n",
    "for i in range(listsize):\n",
    "    nums.append(int(input()))\n",
    "large=nums[0]\n",
    "for i in range(listsize):\n",
    "    if large<nums[i]:\n",
    "        large=nums[i]\n",
    "print(\"largest number in the list :\")\n",
    "print(large)"
   ]
  },
  {
   "cell_type": "code",
   "execution_count": 7,
   "id": "d418fa8b",
   "metadata": {},
   "outputs": [
    {
     "name": "stdout",
     "output_type": "stream",
     "text": [
      "Enter the value of n:4\n",
      "sum= 2.708333333333333\n"
     ]
    }
   ],
   "source": [
    "#Lablist; To generate the sum of the series=(1+1/1i+1/2i+.....+1/ni)\n",
    "n=int(input(\"Enter the value of n:\"))\n",
    "sum=1\n",
    "for i in range(1,n+1):\n",
    "    fact=1\n",
    "    for j in range(1,i+1):\n",
    "        fact*=j\n",
    "    term=1/fact\n",
    "    sum+=term\n",
    "print(\"sum=\",sum)       "
   ]
  },
  {
   "cell_type": "code",
   "execution_count": 25,
   "id": "3b216c03",
   "metadata": {},
   "outputs": [
    {
     "name": "stdout",
     "output_type": "stream",
     "text": [
      "Enter the value for a:1\n",
      "Enter the value for b:2\n",
      "Enter the value for c:3\n",
      "it has no real value\n"
     ]
    }
   ],
   "source": [
    "import math\n",
    "a=int(input(\"Enter the value for a:\"))\n",
    "b=int(input(\"Enter the value for b:\"))\n",
    "c=int(input(\"Enter the value for c:\"))\n",
    "d=(b**2)-(4*a*c)\n",
    "if d<0:\n",
    "    print(\"it has no real value\")\n",
    "elif d==0:\n",
    "    x=(-b+math.sqrt(d)/(2*a))\n",
    "    print(\"it has only one real value\",x)\n",
    "else:\n",
    "        x1=(-b+math.sqrt(d)/(2*a))\n",
    "        x2=(-b-math.sqrt(d)/(2*a))\n",
    "        print(\"it has two values :\",x1 ,\"and\",x2)\n",
    "\n",
    "\n",
    "    "
   ]
  },
  {
   "cell_type": "code",
   "execution_count": null,
   "id": "d14abd0b",
   "metadata": {},
   "outputs": [],
   "source": []
  },
  {
   "cell_type": "code",
   "execution_count": null,
   "id": "efec872d",
   "metadata": {},
   "outputs": [],
   "source": []
  }
 ],
 "metadata": {
  "kernelspec": {
   "display_name": "Python 3 (ipykernel)",
   "language": "python",
   "name": "python3"
  },
  "language_info": {
   "codemirror_mode": {
    "name": "ipython",
    "version": 3
   },
   "file_extension": ".py",
   "mimetype": "text/x-python",
   "name": "python",
   "nbconvert_exporter": "python",
   "pygments_lexer": "ipython3",
   "version": "3.9.7"
  }
 },
 "nbformat": 4,
 "nbformat_minor": 5
}
